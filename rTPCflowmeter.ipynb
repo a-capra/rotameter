{
 "cells": [
  {
   "cell_type": "code",
   "execution_count": 49,
   "metadata": {},
   "outputs": [],
   "source": [
    "import numpy as np\n",
    "from scipy import interpolate"
   ]
  },
  {
   "cell_type": "markdown",
   "metadata": {},
   "source": [
    "## Setup for atmosphere Air and Stainless Steel ball"
   ]
  },
  {
   "cell_type": "markdown",
   "metadata": {},
   "source": [
    "https://www.mathesongas.com/pdfs/flowchart/602%20(E300)/AIR%20602(E300)%20SS%200%20PSIG.pdf"
   ]
  },
  {
   "cell_type": "code",
   "execution_count": 50,
   "metadata": {},
   "outputs": [],
   "source": [
    "pathto=\"C:/Users/andre/Documents/rotameter/\"\n",
    "ro,cal=np.loadtxt(pathto+'AIR_602(E300)_SS_0_PSIG.dat',unpack=True) # sccm\n",
    "flowCal = interpolate.interp1d(ro, cal)"
   ]
  },
  {
   "cell_type": "code",
   "execution_count": 51,
   "metadata": {},
   "outputs": [],
   "source": [
    "import matplotlib.pyplot as plt\n",
    "%matplotlib inline\n",
    "plt.rcParams[\"figure.figsize\"] = (15,9)\n",
    "x=np.linspace(5.0,150.0,200)"
   ]
  },
  {
   "cell_type": "code",
   "execution_count": 52,
   "metadata": {},
   "outputs": [
    {
     "data": {
      "image/png": "[encoded data removed]",
      "text/plain": [
       "<Figure size 1080x576 with 1 Axes>"
      ]
     },
     "metadata": {
      "needs_background": "light"
     },
     "output_type": "display_data"
    }
   ],
   "source": [
    "plt.plot(x, flowCal(x), label='air')\n",
    "plt.xlabel('Reading [mm]')\n",
    "plt.ylabel('Flow [sccm]')\n",
    "plt.grid()\n",
    "#plt.legend(loc='upper left')\n",
    "plt.show()"
   ]
  },
  {
   "cell_type": "markdown",
   "metadata": {},
   "source": [
    "## Calculate correction for different gas mixture"
   ]
  },
  {
   "cell_type": "markdown",
   "metadata": {},
   "source": [
    "https://www.mathesongas.com/pdfs/flowchart/RotameterGasFactorChart.pdf"
   ]
  },
  {
   "cell_type": "code",
   "execution_count": 71,
   "metadata": {},
   "outputs": [],
   "source": [
    "Ar_factor=0.851\n",
    "CO2_factor=0.808"
   ]
  },
  {
   "cell_type": "code",
   "execution_count": 72,
   "metadata": {},
   "outputs": [
    {
     "name": "stdout",
     "output_type": "stream",
     "text": [
      "mix factor: 0.83810\n"
     ]
    }
   ],
   "source": [
    "q_frac=0.3\n",
    "mix_factor=((1.0-q_frac)*Ar_factor)+(q_frac*CO2_factor)\n",
    "print(f'mix factor: {mix_factor:.5f}')"
   ]
  },
  {
   "cell_type": "markdown",
   "metadata": {},
   "source": [
    "## Readout of the SS ball\n",
    "\n",
    "Take the reading from the middle of the ball"
   ]
  },
  {
   "cell_type": "code",
   "execution_count": null,
   "metadata": {},
   "outputs": [],
   "source": []
  },
  {
   "cell_type": "code",
   "execution_count": 73,
   "metadata": {},
   "outputs": [],
   "source": [
    "inSS=101.5\n",
    "outSS=66.5"
   ]
  },
  {
   "cell_type": "markdown",
   "metadata": {},
   "source": [
    "Determine input flow"
   ]
  },
  {
   "cell_type": "code",
   "execution_count": 74,
   "metadata": {},
   "outputs": [
    {
     "name": "stdout",
     "output_type": "stream",
     "text": [
      "Air inflow 550.710 sccm\n",
      "Gas Mixture inflow 461.550 sccm\n"
     ]
    }
   ],
   "source": [
    "inFlow=flowCal(inSS)\n",
    "print(f'Air inflow {inFlow:.3f} sccm')\n",
    "inFlow*=mix_factor\n",
    "print(f'Gas Mixture inflow {inFlow:.3f} sccm')"
   ]
  },
  {
   "cell_type": "markdown",
   "metadata": {},
   "source": [
    "Determine output flow"
   ]
  },
  {
   "cell_type": "code",
   "execution_count": 75,
   "metadata": {},
   "outputs": [
    {
     "name": "stdout",
     "output_type": "stream",
     "text": [
      "Air outflow 316.425 sccm\n",
      "Gas Mixture outflow 265.196 sccm\n"
     ]
    }
   ],
   "source": [
    "outFlow=flowCal(outSS)\n",
    "print(f'Air outflow {outFlow:.3f} sccm')\n",
    "outFlow*=mix_factor\n",
    "print(f'Gas Mixture outflow {outFlow:.3f} sccm')"
   ]
  },
  {
   "cell_type": "markdown",
   "metadata": {},
   "source": [
    "Determine return fraction"
   ]
  },
  {
   "cell_type": "code",
   "execution_count": 76,
   "metadata": {},
   "outputs": [
    {
     "name": "stdout",
     "output_type": "stream",
     "text": [
      "Return fraction 57.5%\n"
     ]
    }
   ],
   "source": [
    "print(f'Return fraction {outFlow/inFlow*100.0:.1f}%')"
   ]
  },
  {
   "cell_type": "markdown",
   "metadata": {},
   "source": [
    "## Determe the flow prior to mixing"
   ]
  },
  {
   "cell_type": "code",
   "execution_count": 79,
   "metadata": {},
   "outputs": [
    {
     "name": "stdout",
     "output_type": "stream",
     "text": [
      "CO2 inflow 122.396 sccm\n"
     ]
    }
   ],
   "source": [
    "co2SS=41\n",
    "inCO2Flow=flowCal(co2SS)*CO2_factor\n",
    "print(f'CO2 inflow {inCO2Flow:.3f} sccm')"
   ]
  },
  {
   "cell_type": "code",
   "execution_count": 80,
   "metadata": {},
   "outputs": [
    {
     "name": "stdout",
     "output_type": "stream",
     "text": [
      "Ar inflow 401.340 sccm\n"
     ]
    }
   ],
   "source": [
    "ar2SS=89\n",
    "inArFlow=flowCal(ar2SS)*Ar_factor\n",
    "print(f'Ar inflow {inArFlow:.3f} sccm')"
   ]
  },
  {
   "cell_type": "code",
   "execution_count": 81,
   "metadata": {},
   "outputs": [
    {
     "name": "stdout",
     "output_type": "stream",
     "text": [
      "Total input Flow 523.73595 sccm\n",
      "CO2 fraction 23.4%\n"
     ]
    }
   ],
   "source": [
    "totFlow=inCO2Flow+inArFlow\n",
    "print(f'Total input Flow {totFlow:.5f} sccm')\n",
    "co2frac=inCO2Flow/totFlow\n",
    "print(f'CO2 fraction {co2frac*100:.1f}%')"
   ]
  },
  {
   "cell_type": "code",
   "execution_count": null,
   "metadata": {},
   "outputs": [],
   "source": []
  }
 ],
 "metadata": {
  "kernelspec": {
   "display_name": "Python 3",
   "language": "python",
   "name": "python3"
  },
  "language_info": {
   "codemirror_mode": {
    "name": "ipython",
    "version": 3
   },
   "file_extension": ".py",
   "mimetype": "text/x-python",
   "name": "python",
   "nbconvert_exporter": "python",
   "pygments_lexer": "ipython3",
   "version": "3.8.2"
  }
 },
 "nbformat": 4,
 "nbformat_minor": 4
}
